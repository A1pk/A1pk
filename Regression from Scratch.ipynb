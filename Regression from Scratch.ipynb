{
  "nbformat": 4,
  "nbformat_minor": 0,
  "metadata": {
    "colab": {
      "name": "Reg From Scr",
      "provenance": [],
      "authorship_tag": "ABX9TyMfTj1ZwCSFGM9Oc5Egqm63",
      "include_colab_link": true
    },
    "kernelspec": {
      "name": "python3",
      "display_name": "Python 3"
    },
    "language_info": {
      "name": "python"
    }
  },
  "cells": [
    {
      "cell_type": "markdown",
      "metadata": {
        "id": "view-in-github",
        "colab_type": "text"
      },
      "source": [
        "<a href=\"https://colab.research.google.com/github/AtulK3/A1pk/blob/main/Regression%20from%20Scratch.ipynb\" target=\"_parent\"><img src=\"https://colab.research.google.com/assets/colab-badge.svg\" alt=\"Open In Colab\"/></a>"
      ]
    },
    {
      "cell_type": "code",
      "metadata": {
        "id": "_GL_0Q9f3Xj5"
      },
      "source": [
        "import numpy as np\n",
        "import pandas as pd\n",
        "import matplotlib.pyplot as plt\n",
        "import seaborn as sb\n"
      ],
      "execution_count": null,
      "outputs": []
    },
    {
      "cell_type": "code",
      "metadata": {
        "id": "nH6XAfmIdx9R"
      },
      "source": [
        "def v(data):\n",
        "  n = len(data)\n",
        "  mean = sum(data) / n\n",
        "  sq_dev = [(x-mean) ** 2 for x in data]\n",
        "  var = sum (sq_dev )/(n-1) \n",
        "  return var"
      ],
      "execution_count": null,
      "outputs": []
    },
    {
      "cell_type": "code",
      "metadata": {
        "colab": {
          "base_uri": "https://localhost:8080/"
        },
        "id": "3NCGczYwugXp",
        "outputId": "993895f1-bd75-414e-ef85-39e1f2def2b1"
      },
      "source": [
        "X=[1,2,3,4,5,6,7,8,9,10]\n",
        "print(X)\n",
        "Y=[2,4,6,8,10,12,14,16,18,20]\n",
        "print(Y)"
      ],
      "execution_count": null,
      "outputs": [
        {
          "output_type": "stream",
          "name": "stdout",
          "text": [
            "[1, 2, 3, 4, 5, 6, 7, 8, 9, 10]\n",
            "[2, 4, 6, 8, 10, 12, 14, 16, 18, 20]\n"
          ]
        }
      ]
    },
    {
      "cell_type": "code",
      "metadata": {
        "id": "ERXpZL8s8zJ-"
      },
      "source": [
        "def co(X,Y):\n",
        "   sd_x= v(X) ** 0.5\n",
        "   sd_y=v(Y) ** 0.5\n",
        "   cov_XY = cov(X,Y)\n",
        "   return (cov_XY) / (sd_x * sd_y)"
      ],
      "execution_count": null,
      "outputs": []
    },
    {
      "cell_type": "code",
      "metadata": {
        "colab": {
          "base_uri": "https://localhost:8080/"
        },
        "id": "HWTgIvcm9vlC",
        "outputId": "df51db64-e53f-4310-f3ee-8ab6e9ba90a5"
      },
      "source": [
        " "
      ],
      "execution_count": null,
      "outputs": [
        {
          "output_type": "execute_result",
          "data": {
            "text/plain": [
              "0.8999999999999999"
            ]
          },
          "metadata": {},
          "execution_count": 101
        }
      ]
    },
    {
      "cell_type": "code",
      "metadata": {
        "colab": {
          "base_uri": "https://localhost:8080/"
        },
        "id": "if7NQP5S90nZ",
        "outputId": "e896731d-56ac-4f4c-a0c6-e75d3d1d7e09"
      },
      "source": [
        "co=np.corrcoef(X,Y)\n",
        "co[1,0]"
      ],
      "execution_count": null,
      "outputs": [
        {
          "output_type": "execute_result",
          "data": {
            "text/plain": [
              "0.9999999999999999"
            ]
          },
          "metadata": {},
          "execution_count": 109
        }
      ]
    },
    {
      "cell_type": "code",
      "metadata": {
        "colab": {
          "base_uri": "https://localhost:8080/"
        },
        "id": "HWlq1U6E-RrN",
        "outputId": "8f498fae-7076-4336-aadd-527fbf0a8047"
      },
      "source": [
        " X=[1,2,3,4,5,6,7,8,9,10]\n",
        "print(X)\n",
        "Y=[2,4,6,8,11,8,10,15,17,22]\n",
        "print(Y)"
      ],
      "execution_count": null,
      "outputs": [
        {
          "output_type": "stream",
          "name": "stdout",
          "text": [
            "[1, 2, 3, 4, 5, 6, 7, 8, 9, 10]\n",
            "[2, 4, 6, 8, 11, 8, 10, 15, 17, 22]\n"
          ]
        }
      ]
    },
    {
      "cell_type": "code",
      "metadata": {
        "id": "cXl_tl1k_hvc"
      },
      "source": [
        "def mean(data):\n",
        "    return (sum(data)) / len(data)\n",
        "mean(X)\n",
        "\n",
        "def variance(data):\n",
        "  n = len(data)\n",
        "  mean = sum(data) / n\n",
        "  sq_dev = [(x-mean) ** 2 for x in data]\n",
        "  var = sum (sq_dev )/(n-1) \n",
        "  return var"
      ],
      "execution_count": null,
      "outputs": []
    },
    {
      "cell_type": "code",
      "metadata": {
        "colab": {
          "base_uri": "https://localhost:8080/"
        },
        "id": "bphc3FCPDKy8",
        "outputId": "fc69b682-a601-4f4f-c90b-599b5ab27f05"
      },
      "source": [
        "def cov(X,Y):\n",
        "  n = len(X)\n",
        "  XY = [X[i]*Y[i] for i in range(n)]\n",
        "     \n",
        "  mean_X = sum(X)/float(n)\n",
        "  mean_Y = sum(Y)/float(n)\n",
        "     \n",
        "  return (sum(XY) - n*mean_X * mean_Y) / float(n)\n",
        " \n",
        "print ('Covariance : ' + str(cov(X,Y)) ) "
      ],
      "execution_count": null,
      "outputs": [
        {
          "output_type": "stream",
          "name": "stdout",
          "text": [
            "Covariance : 15.95\n"
          ]
        }
      ]
    },
    {
      "cell_type": "code",
      "metadata": {
        "colab": {
          "base_uri": "https://localhost:8080/"
        },
        "id": "rYu8txSZDNg-",
        "outputId": "4b4d146a-dec5-4d17-ec53-8d07dfd3baab"
      },
      "source": [
        "sd_x= variance(X) ** 0.5\n",
        "sd_y=variance(Y) ** 0.5\n",
        "print(sd_x)\n",
        "print(sd_y)"
      ],
      "execution_count": null,
      "outputs": [
        {
          "output_type": "stream",
          "name": "stdout",
          "text": [
            "3.0276503540974917\n",
            "6.165315167216605\n"
          ]
        }
      ]
    },
    {
      "cell_type": "code",
      "metadata": {
        "colab": {
          "base_uri": "https://localhost:8080/"
        },
        "id": "JR65hHelDR-s",
        "outputId": "c2ec4faf-1422-46e9-f35a-12c568b63de1"
      },
      "source": [
        "r = cov(X,Y) / (sd_x*sd_y)\n",
        "r"
      ],
      "execution_count": null,
      "outputs": [
        {
          "output_type": "execute_result",
          "data": {
            "text/plain": [
              "0.8544756388355048"
            ]
          },
          "metadata": {},
          "execution_count": 120
        }
      ]
    },
    {
      "cell_type": "code",
      "metadata": {
        "id": "oVOlJhJzDY_a"
      },
      "source": [
        ""
      ],
      "execution_count": null,
      "outputs": []
    }
  ]
}