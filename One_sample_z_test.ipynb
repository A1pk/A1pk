{
  "nbformat": 4,
  "nbformat_minor": 0,
  "metadata": {
    "colab": {
      "name": " One  sample z test.ipynb",
      "provenance": [],
      "collapsed_sections": [],
      "include_colab_link": true
    },
    "kernelspec": {
      "name": "python3",
      "display_name": "Python 3"
    },
    "language_info": {
      "name": "python"
    }
  },
  "cells": [
    {
      "cell_type": "markdown",
      "metadata": {
        "id": "view-in-github",
        "colab_type": "text"
      },
      "source": [
        "<a href=\"https://colab.research.google.com/github/AtulK3/Hypothesis-testing/blob/main/One_sample_z_test.ipynb\" target=\"_parent\"><img src=\"https://colab.research.google.com/assets/colab-badge.svg\" alt=\"Open In Colab\"/></a>"
      ]
    },
    {
      "cell_type": "markdown",
      "source": [
        "One Sample Z test from Scratch"
      ],
      "metadata": {
        "id": "jJjUcIICNwGU"
      }
    },
    {
      "cell_type": "code",
      "metadata": {
        "id": "4krPvTM7v9nk"
      },
      "source": [
        "import math"
      ],
      "execution_count": null,
      "outputs": []
    },
    {
      "cell_type": "markdown",
      "metadata": {
        "id": "nnxK6ytAwJcC"
      },
      "source": [
        "The height 30 U.S. male population is given below with population mean 70 and sd 3 inches.test the claim that wether the height of the U.S. male population is 70 inchs or not at 5% LOS."
      ]
    },
    {
      "cell_type": "code",
      "metadata": {
        "id": "qiZPDvgewHm-"
      },
      "source": [
        "ht = [67,70,65,73,71,72,69,73,71,71,72,73,71,71,67,67,69,66,68,65,66,73,68,67,73,71,70,75,68,73,66]"
      ],
      "execution_count": null,
      "outputs": []
    },
    {
      "cell_type": "code",
      "metadata": {
        "id": "qMGtLNq9ySB5"
      },
      "source": [
        "## the test satistics is,\n",
        "## z =((x_bar-mu) / (sigma / sqrt(n))) ##"
      ],
      "execution_count": null,
      "outputs": []
    },
    {
      "cell_type": "code",
      "metadata": {
        "id": "VuNY0AnVysjH"
      },
      "source": [
        "def mean(data):\n",
        "  xbar = sum(data) / len (data)\n",
        "  return xbar"
      ],
      "execution_count": null,
      "outputs": []
    },
    {
      "cell_type": "code",
      "metadata": {
        "colab": {
          "base_uri": "https://localhost:8080/"
        },
        "id": "x1LsoAqDzCqZ",
        "outputId": "ce609270-c471-4cca-b639-a684931c1cfe"
      },
      "source": [
        "mean(ht)"
      ],
      "execution_count": null,
      "outputs": [
        {
          "output_type": "execute_result",
          "data": {
            "text/plain": [
              "69.70967741935483"
            ]
          },
          "metadata": {},
          "execution_count": 10
        }
      ]
    },
    {
      "cell_type": "code",
      "metadata": {
        "id": "DbfRuPfXzFct"
      },
      "source": [
        "def ztest(data,sigma , mu):\n",
        "  n = len(data)\n",
        "  x_bar = mean(data)\n",
        "  z =((x_bar-mu) / (sigma / n ** 0.5))\n",
        "  return z"
      ],
      "execution_count": null,
      "outputs": []
    },
    {
      "cell_type": "code",
      "metadata": {
        "colab": {
          "base_uri": "https://localhost:8080/"
        },
        "id": "VGuVSkArzeA2",
        "outputId": "a85f2d5d-c316-4b68-c907-f2c75bfc974b"
      },
      "source": [
        "ztest(ht ,3 , 70)"
      ],
      "execution_count": null,
      "outputs": [
        {
          "output_type": "execute_result",
          "data": {
            "text/plain": [
              "-0.5388159060803358"
            ]
          },
          "metadata": {},
          "execution_count": 30
        }
      ]
    },
    {
      "cell_type": "markdown",
      "metadata": {
        "id": "RFvbgAkw16B7"
      },
      "source": [
        "# P value :"
      ]
    },
    {
      "cell_type": "code",
      "metadata": {
        "id": "Gd1tKQLJ2JXy"
      },
      "source": [
        "## p value ##\n",
        "import scipy.stats"
      ],
      "execution_count": null,
      "outputs": []
    },
    {
      "cell_type": "code",
      "metadata": {
        "id": "Kb5UzIbP1qru"
      },
      "source": [
        "p_values1 = scipy.stats.norm.sf(abs(-0.5388)) #one-sided\n",
        "\n",
        "p_values2 = scipy.stats.norm.sf(abs(-0.5388))*2 #twosided"
      ],
      "execution_count": null,
      "outputs": []
    },
    {
      "cell_type": "code",
      "metadata": {
        "colab": {
          "base_uri": "https://localhost:8080/"
        },
        "id": "mLF_8KZh28oM",
        "outputId": "48ecf9a5-291b-4a89-a60d-bb0b116fcb61"
      },
      "source": [
        "p_values2"
      ],
      "execution_count": null,
      "outputs": [
        {
          "output_type": "execute_result",
          "data": {
            "text/plain": [
              "0.5900248636245424"
            ]
          },
          "metadata": {},
          "execution_count": 44
        }
      ]
    },
    {
      "cell_type": "code",
      "metadata": {
        "colab": {
          "base_uri": "https://localhost:8080/"
        },
        "id": "sUksecn03ViP",
        "outputId": "e6f8eb95-c0dc-4275-cff7-729ca5db26e2"
      },
      "source": [
        "## conclusion:\n",
        "alpha = 0.05 \n",
        "if alpha > p_values2:\n",
        "  print(\"Reject the Null hypothesis at 5% LOS :\\n\",\"the mean height of the U.S. male population is not a 70 inchs \")\n",
        "else:\n",
        "  print(\"Accept the Null hypothesis at 5% LOS :\\n\",\"the mean height of the U.S. male population is 70 inchs \")"
      ],
      "execution_count": null,
      "outputs": [
        {
          "output_type": "stream",
          "name": "stdout",
          "text": [
            "Accept the Null hypothesis at 5% LOS :\n",
            " the mean height of the U.S. male population is 70 inchs \n"
          ]
        }
      ]
    },
    {
      "cell_type": "markdown",
      "metadata": {
        "id": "o13atocW076K"
      },
      "source": [
        "e.g.2\n",
        "A random sample of 100 bulbs is having mean 1150 hr with sd 125 hr .Its reasonable to say that mean of bulb in the population is 1200 or not?"
      ]
    },
    {
      "cell_type": "markdown",
      "metadata": {
        "id": "QGLslsIt1DBw"
      },
      "source": [
        "We have, n = 100 ,x_bar = 1150 ,sigma = 125 , Mu = 1200"
      ]
    },
    {
      "cell_type": "code",
      "metadata": {
        "id": "Eh1ZJgtV0_5b"
      },
      "source": [
        "def z_test(n , mean , sigma ,mu):\n",
        "  z =((mean-mu) / (sigma / n ** 0.5))\n",
        "  return z"
      ],
      "execution_count": null,
      "outputs": []
    },
    {
      "cell_type": "code",
      "metadata": {
        "colab": {
          "base_uri": "https://localhost:8080/"
        },
        "id": "sf0yb2FW1B37",
        "outputId": "0657ee03-727b-4d21-c321-5c3e05ea0bcd"
      },
      "source": [
        "z_test(100,1150,125,1200)"
      ],
      "execution_count": null,
      "outputs": [
        {
          "output_type": "execute_result",
          "data": {
            "text/plain": [
              "-4.0"
            ]
          },
          "metadata": {},
          "execution_count": 26
        }
      ]
    },
    {
      "cell_type": "code",
      "metadata": {
        "id": "7iOY_AOl1JvX"
      },
      "source": [
        ""
      ],
      "execution_count": null,
      "outputs": []
    },
    {
      "cell_type": "code",
      "metadata": {
        "id": "A0jsU4Xh6adC"
      },
      "source": [
        ""
      ],
      "execution_count": null,
      "outputs": []
    },
    {
      "cell_type": "code",
      "metadata": {
        "id": "2wKR9JUB6ajS"
      },
      "source": [
        ""
      ],
      "execution_count": null,
      "outputs": []
    },
    {
      "cell_type": "code",
      "metadata": {
        "colab": {
          "base_uri": "https://localhost:8080/"
        },
        "id": "0kjeJ8-l6apB",
        "outputId": "d60e609c-9d4c-4cba-9d23-fed2efebd106"
      },
      "source": [
        "list1 = [23, 34, 43, 58, 25]\n",
        "for i in list1:\n",
        "  if (i-5):\n",
        "          print(i)"
      ],
      "execution_count": null,
      "outputs": [
        {
          "output_type": "stream",
          "name": "stdout",
          "text": [
            "23\n",
            "34\n",
            "43\n",
            "58\n",
            "25\n"
          ]
        }
      ]
    },
    {
      "cell_type": "code",
      "metadata": {
        "colab": {
          "base_uri": "https://localhost:8080/",
          "height": 173
        },
        "id": "jocGB-1m6eau",
        "outputId": "cc49451c-fae2-41fa-8c11-30719aeeaa4f"
      },
      "source": [
        "import pandas as pd\n",
        "# using list of lists\n",
        "data = [['Mayur','70','A','B'],['Vrushali','75','A+','C'],['Shweta','80','O','D'],['Shridhar','85','O','S']]\n",
        "df = pd.DataFrame(data,columns =['Name','Marks','Grade',\"AA\"])\n",
        "df"
      ],
      "execution_count": null,
      "outputs": [
        {
          "output_type": "execute_result",
          "data": {
            "text/html": [
              "<div>\n",
              "<style scoped>\n",
              "    .dataframe tbody tr th:only-of-type {\n",
              "        vertical-align: middle;\n",
              "    }\n",
              "\n",
              "    .dataframe tbody tr th {\n",
              "        vertical-align: top;\n",
              "    }\n",
              "\n",
              "    .dataframe thead th {\n",
              "        text-align: right;\n",
              "    }\n",
              "</style>\n",
              "<table border=\"1\" class=\"dataframe\">\n",
              "  <thead>\n",
              "    <tr style=\"text-align: right;\">\n",
              "      <th></th>\n",
              "      <th>Name</th>\n",
              "      <th>Marks</th>\n",
              "      <th>Grade</th>\n",
              "      <th>AA</th>\n",
              "    </tr>\n",
              "  </thead>\n",
              "  <tbody>\n",
              "    <tr>\n",
              "      <th>0</th>\n",
              "      <td>Mayur</td>\n",
              "      <td>70</td>\n",
              "      <td>A</td>\n",
              "      <td>B</td>\n",
              "    </tr>\n",
              "    <tr>\n",
              "      <th>1</th>\n",
              "      <td>Vrushali</td>\n",
              "      <td>75</td>\n",
              "      <td>A+</td>\n",
              "      <td>C</td>\n",
              "    </tr>\n",
              "    <tr>\n",
              "      <th>2</th>\n",
              "      <td>Shweta</td>\n",
              "      <td>80</td>\n",
              "      <td>O</td>\n",
              "      <td>D</td>\n",
              "    </tr>\n",
              "    <tr>\n",
              "      <th>3</th>\n",
              "      <td>Shridhar</td>\n",
              "      <td>85</td>\n",
              "      <td>O</td>\n",
              "      <td>S</td>\n",
              "    </tr>\n",
              "  </tbody>\n",
              "</table>\n",
              "</div>"
            ],
            "text/plain": [
              "       Name Marks Grade AA\n",
              "0     Mayur    70     A  B\n",
              "1  Vrushali    75    A+  C\n",
              "2    Shweta    80     O  D\n",
              "3  Shridhar    85     O  S"
            ]
          },
          "metadata": {},
          "execution_count": 8
        }
      ]
    },
    {
      "cell_type": "code",
      "metadata": {
        "id": "Y3vIA9oWWYmt"
      },
      "source": [
        ""
      ],
      "execution_count": null,
      "outputs": []
    }
  ]
}