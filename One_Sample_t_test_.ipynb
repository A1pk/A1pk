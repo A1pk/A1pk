{
  "nbformat": 4,
  "nbformat_minor": 0,
  "metadata": {
    "colab": {
      "name": "One Sample t test  .ipynb",
      "provenance": [],
      "collapsed_sections": [],
      "authorship_tag": "ABX9TyNpSr34tHRQUXQMs8jYMcLK"
    },
    "kernelspec": {
      "name": "python3",
      "display_name": "Python 3"
    },
    "language_info": {
      "name": "python"
    }
  },
  "cells": [
    {
      "cell_type": "markdown",
      "metadata": {
        "id": "K3Auu_T0ys8h"
      },
      "source": [
        "**# One Sample t test**                                              \n",
        "This test is used when we want to check whether the mean of the single population is equal to the targeted value or not.                             \n",
        "E.g. We want to test whether the mean level of Sugar in the body is equal to 120 mg or not.\n"
      ]
    },
    {
      "cell_type": "markdown",
      "metadata": {
        "id": "cV0LclOuzIxJ"
      },
      "source": [
        "E.g. The Height of 10 students( in inches ) is given below 63,67,66,68,69,70,70,71,71,65. Test wether the population mean height is 66 inches or not at 5 % level of Significance."
      ]
    },
    {
      "cell_type": "code",
      "metadata": {
        "id": "ATxL-M3uyu5S",
        "colab": {
          "base_uri": "https://localhost:8080/"
        },
        "outputId": "359c14e8-16be-4f59-df74-a099cc90ed3e"
      },
      "source": [
        "## Created the list store the variable height\n",
        "height = [63,67,66,68,69,70,70,71,71,65]\n",
        "height"
      ],
      "execution_count": 3,
      "outputs": [
        {
          "output_type": "execute_result",
          "data": {
            "text/plain": [
              "[63, 67, 66, 68, 69, 70, 70, 71, 71, 65]"
            ]
          },
          "metadata": {},
          "execution_count": 3
        }
      ]
    },
    {
      "cell_type": "markdown",
      "metadata": {
        "id": "ZZeJOJmz0biC"
      },
      "source": [
        "We have,\n",
        "population mean (μ) = 66 , Sample size (n) = 10  , Level of significance = 0.05 or 5 % "
      ]
    },
    {
      "cell_type": "markdown",
      "metadata": {
        "id": "p66a2Km61A6T"
      },
      "source": [
        "The test statistics is,\n",
        "t = (x̄ - μ) / (s /sqrt(n))"
      ]
    },
    {
      "cell_type": "code",
      "metadata": {
        "colab": {
          "base_uri": "https://localhost:8080/"
        },
        "id": "nCqBfIfB0RMj",
        "outputId": "3a621ade-fdd6-46e7-cba1-749852754aa3"
      },
      "source": [
        "n = len(height)  ## to get  the sample size\n",
        "sum_height = sum(height) \n",
        "sum_height"
      ],
      "execution_count": 4,
      "outputs": [
        {
          "output_type": "execute_result",
          "data": {
            "text/plain": [
              "680"
            ]
          },
          "metadata": {},
          "execution_count": 4
        }
      ]
    },
    {
      "cell_type": "code",
      "metadata": {
        "colab": {
          "base_uri": "https://localhost:8080/"
        },
        "id": "paXMQkw312mb",
        "outputId": "6bc566d5-c3da-4d0f-c311-845a9e94721a"
      },
      "source": [
        "x_bar = sum_height /len(height) # To find the Mean\n",
        "print(x_bar)\n",
        "mu = 66  # Population Mean"
      ],
      "execution_count": 5,
      "outputs": [
        {
          "output_type": "stream",
          "name": "stdout",
          "text": [
            "68.0\n"
          ]
        }
      ]
    },
    {
      "cell_type": "markdown",
      "metadata": {
        "id": "yUhuKzc_2HyF"
      },
      "source": [
        "sample variance (s) = sqrt (Σ (Xi - x_bar)^2 / n-1 )"
      ]
    },
    {
      "cell_type": "code",
      "metadata": {
        "colab": {
          "base_uri": "https://localhost:8080/"
        },
        "id": "S1q05MZN2C10",
        "outputId": "66c57274-42dc-4a2b-8980-a1b48ed4ef51"
      },
      "source": [
        "sample_var = sum((xi - x_bar)** 2 for xi in height )/ (len(height)-1)\n",
        "sample_var"
      ],
      "execution_count": null,
      "outputs": [
        {
          "output_type": "execute_result",
          "data": {
            "text/plain": [
              "7.333333333333333"
            ]
          },
          "metadata": {},
          "execution_count": 54
        }
      ]
    },
    {
      "cell_type": "code",
      "metadata": {
        "colab": {
          "base_uri": "https://localhost:8080/"
        },
        "id": "o3qcvqlt4Ira",
        "outputId": "96cbce52-a8e8-4524-f72a-7a46f2e710fd"
      },
      "source": [
        " ## Sample Standart deviation\n",
        " std_dev = sample_var ** 0.5\n",
        " std_dev"
      ],
      "execution_count": null,
      "outputs": [
        {
          "output_type": "execute_result",
          "data": {
            "text/plain": [
              "2.70801280154532"
            ]
          },
          "metadata": {},
          "execution_count": 55
        }
      ]
    },
    {
      "cell_type": "code",
      "metadata": {
        "colab": {
          "base_uri": "https://localhost:8080/"
        },
        "id": "mZLFKkRT5fte",
        "outputId": "8e3bc9c0-2190-42b8-aa39-4536026016ac"
      },
      "source": [
        "## standard error\n",
        "se = std_dev / len(height)**0.5\n",
        "se"
      ],
      "execution_count": null,
      "outputs": [
        {
          "output_type": "execute_result",
          "data": {
            "text/plain": [
              "0.8563488385776752"
            ]
          },
          "metadata": {},
          "execution_count": 56
        }
      ]
    },
    {
      "cell_type": "code",
      "metadata": {
        "colab": {
          "base_uri": "https://localhost:8080/"
        },
        "id": "KMy3hnNA7k2j",
        "outputId": "889fcd00-3f19-422b-fa73-de0158284b99"
      },
      "source": [
        "cal_t = (x_bar - mu) / se\n",
        "cal_t"
      ],
      "execution_count": null,
      "outputs": [
        {
          "output_type": "execute_result",
          "data": {
            "text/plain": [
              "2.3354968324845693"
            ]
          },
          "metadata": {},
          "execution_count": 57
        }
      ]
    },
    {
      "cell_type": "code",
      "metadata": {
        "id": "QCfu-EoS8tbv"
      },
      "source": [
        "## Critical value of t ##\n",
        "import scipy.stats"
      ],
      "execution_count": null,
      "outputs": []
    },
    {
      "cell_type": "markdown",
      "metadata": {
        "id": "sSlsb8X2Krew"
      },
      "source": [
        "# Tabulated t value          \n",
        "The tabulated t value is calculated using t disribution table as follows:     \n",
        "Tab t = t(n-1 , α / 2) degrees of freedom                     \n",
        "we have n = 10  and alpha (α ) = 0.05\n",
        "so, t(10-1 , 0.05 / 2)                     \n",
        "    t(9 , 0.025)  = 2.262               \n",
        "    in t distribution table look for the 9th row sice we get (10-1) = 9     and in coloum look for two tailed alpha(α ) = 0.05 or one tailed alpha(α) = 0.025 you will get correspoding Tab t value.\n",
        "\n",
        "https://cdn.analyticsvidhya.com/wp-content/uploads/2019/05/t-table.png\n",
        "\n",
        "\n",
        "\n"
      ]
    },
    {
      "cell_type": "markdown",
      "metadata": {
        "id": "Wk3E7_v7En0o"
      },
      "source": [
        "scipy.stats.t.ppf(q, df)\n",
        "\n",
        "where  q = significance Level                 \n",
        "        df = degrees of freedom\n"
      ]
    },
    {
      "cell_type": "code",
      "metadata": {
        "colab": {
          "base_uri": "https://localhost:8080/"
        },
        "id": "Yfb2wy_IAed6",
        "outputId": "7ccec889-ffac-4eae-fec8-13e008984c2e"
      },
      "source": [
        "## hypothesis is twi tailed\n",
        "tab_t = scipy.stats.t.ppf(q=1-.05/2,df=9)\n",
        "tab_t"
      ],
      "execution_count": null,
      "outputs": [
        {
          "output_type": "execute_result",
          "data": {
            "text/plain": [
              "2.2621571627409915"
            ]
          },
          "metadata": {},
          "execution_count": 49
        }
      ]
    },
    {
      "cell_type": "code",
      "metadata": {
        "colab": {
          "base_uri": "https://localhost:8080/"
        },
        "id": "T195vk2TAlLF",
        "outputId": "396f99e7-2008-41ae-efca-46ac144c3a93"
      },
      "source": [
        "## Conclusion\n",
        "if tab_t > cal_t:\n",
        "  print(\"Accept the Null hypothesis:\\n\" ,\"The population mean height is 66 inches\")\n",
        "else:\n",
        "    print(\"Reject the Null hypothesis:\\n\",\"The population mean height is not equal to 66 inches\")"
      ],
      "execution_count": null,
      "outputs": [
        {
          "output_type": "stream",
          "name": "stdout",
          "text": [
            "Reject the Null hypothesis:\n",
            " The population mean height is not equal to 66 inches\n"
          ]
        }
      ]
    },
    {
      "cell_type": "markdown",
      "metadata": {
        "id": "Ifuvp5Ed4T21"
      },
      "source": [
        "#t-test using User Defined function"
      ]
    },
    {
      "cell_type": "code",
      "metadata": {
        "colab": {
          "base_uri": "https://localhost:8080/"
        },
        "id": "pCT9fKCKK2tw",
        "outputId": "0ee137e4-5e84-4962-c2dc-3faf281ad2b8"
      },
      "source": [
        "## Created the list store the variable height\n",
        "height = [63,67,66,68,69,70,70,71,71,65]\n",
        "height"
      ],
      "execution_count": null,
      "outputs": [
        {
          "output_type": "execute_result",
          "data": {
            "text/plain": [
              "[63, 67, 66, 68, 69, 70, 70, 71, 71, 65]"
            ]
          },
          "metadata": {},
          "execution_count": 10
        }
      ]
    },
    {
      "cell_type": "code",
      "metadata": {
        "id": "IVAQzm-zfFcr",
        "colab": {
          "base_uri": "https://localhost:8080/"
        },
        "outputId": "6734ff28-c4e4-48bd-cca3-f81655fc7d88"
      },
      "source": [
        "import math\n",
        "## User Defined Func for mean\n",
        "def mean(numbers):\n",
        "    return (sum(numbers)) / max(len(numbers),1)\n",
        "\n",
        "mean(height)"
      ],
      "execution_count": null,
      "outputs": [
        {
          "output_type": "execute_result",
          "data": {
            "text/plain": [
              "68.0"
            ]
          },
          "metadata": {},
          "execution_count": 11
        }
      ]
    },
    {
      "cell_type": "code",
      "metadata": {
        "id": "ys7tDlEGFXxz"
      },
      "source": [
        "## User Defined function for Variance\n",
        "def var(data):\n",
        "  n = len(data)\n",
        "  mean = sum(data) / n\n",
        "  sq_dev = [(x-mean) ** 2 for x in data]\n",
        "  \n",
        "  var = sum (sq_dev )/(n-1)\n",
        "  return var"
      ],
      "execution_count": null,
      "outputs": []
    },
    {
      "cell_type": "code",
      "metadata": {
        "id": "y4nVvxMBFlsw"
      },
      "source": [
        "##t =( xbar - mu )/ (sd /sqart(n))"
      ],
      "execution_count": null,
      "outputs": []
    },
    {
      "cell_type": "code",
      "metadata": {
        "id": "5f4NfzfCuVkT"
      },
      "source": [
        "def t_test(data,mu):\n",
        "  x_bar = mean(data)\n",
        "  sd = math.sqrt(var(data))\n",
        "  n = len(data)\n",
        "  t =( x_bar - mu )/ (sd /math.sqrt(n))\n",
        "  return t"
      ],
      "execution_count": null,
      "outputs": []
    },
    {
      "cell_type": "code",
      "metadata": {
        "id": "SXAjHBPExjvv"
      },
      "source": [
        "cal_t = t_test(height, 66)"
      ],
      "execution_count": null,
      "outputs": []
    },
    {
      "cell_type": "code",
      "metadata": {
        "id": "xxFUtpdlK99K"
      },
      "source": [
        ""
      ],
      "execution_count": null,
      "outputs": []
    },
    {
      "cell_type": "markdown",
      "metadata": {
        "id": "MwiCqjmjKTHN"
      },
      "source": [
        "## Tabulated t value\n",
        "## cipy.stats.t.ppf(q, df)\n",
        "\n",
        "where q = significance Level\n",
        "df = degrees of freedom"
      ]
    },
    {
      "cell_type": "code",
      "metadata": {
        "id": "_oBMEKbjKg5b"
      },
      "source": [
        "## Critical value of t ##\n",
        "import scipy.stats"
      ],
      "execution_count": null,
      "outputs": []
    },
    {
      "cell_type": "code",
      "metadata": {
        "id": "CLh3tuAI1pvc",
        "colab": {
          "base_uri": "https://localhost:8080/"
        },
        "outputId": "07aaadd6-05d5-4de7-81e6-bd6362ad8737"
      },
      "source": [
        "## hypothesis is two tailed\n",
        "tab_t = scipy.stats.t.ppf(q=1-.05/2,df=9)\n",
        "tab_t"
      ],
      "execution_count": null,
      "outputs": [
        {
          "output_type": "execute_result",
          "data": {
            "text/plain": [
              "2.2621571627409915"
            ]
          },
          "metadata": {},
          "execution_count": 3
        }
      ]
    },
    {
      "cell_type": "code",
      "metadata": {
        "colab": {
          "base_uri": "https://localhost:8080/"
        },
        "id": "H1OCl7fTKZJX",
        "outputId": "71cf3437-9599-4773-d3ba-f47954b8435e"
      },
      "source": [
        "## Conclusion\n",
        "if tab_t > cal_t:\n",
        "  print(\"Accept the Null hypothesis:\\n\" ,\"The population mean height is 66 inches\")\n",
        "else:\n",
        "    print(\"Reject the Null hypothesis:\\n\",\"The population mean height is not equal to 66 inches\")"
      ],
      "execution_count": null,
      "outputs": [
        {
          "output_type": "stream",
          "name": "stdout",
          "text": [
            "Reject the Null hypothesis:\n",
            " The population mean height is not equal to 66 inches\n"
          ]
        }
      ]
    }
  ]
}
