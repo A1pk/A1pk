{
  "nbformat": 4,
  "nbformat_minor": 0,
  "metadata": {
    "colab": {
      "name": "Copy of Two sample Z test.ipynb",
      "provenance": [],
      "collapsed_sections": [],
      "include_colab_link": true
    },
    "kernelspec": {
      "name": "python3",
      "display_name": "Python 3"
    },
    "language_info": {
      "name": "python"
    }
  },
  "cells": [
    {
      "cell_type": "markdown",
      "metadata": {
        "id": "view-in-github",
        "colab_type": "text"
      },
      "source": [
        "<a href=\"https://colab.research.google.com/github/AtulK3/Hypothesis-testing/blob/main/Copy_of_Two_sample_Z_test.ipynb\" target=\"_parent\"><img src=\"https://colab.research.google.com/assets/colab-badge.svg\" alt=\"Open In Colab\"/></a>"
      ]
    },
    {
      "cell_type": "markdown",
      "metadata": {
        "id": "ZdUCkwHQu4PP"
      },
      "source": [
        " Sample of student drawn from two university with the following information .\n",
        "check whether difference between the mean weight of student in university A and B is significant or not at 5 % level of Significance.                    \n",
        " university A: xbar = 55 kg , σ 1 = 10 kg ,  n1 =400           \n",
        " university B: ybar = 57kg  , σ 2 = 15 kg , n2 =100\n"
      ]
    },
    {
      "cell_type": "markdown",
      "metadata": {
        "id": "SR4Tm2cPvS6C"
      },
      "source": [
        "# Test Statistics is\n",
        "\n",
        "z = ( Xbar - Ybar ) / sqrt((σ1^2/n1)+(σ2^2/n2))"
      ]
    },
    {
      "cell_type": "code",
      "metadata": {
        "id": "5AcvGNj8dhr7"
      },
      "source": [
        "import math"
      ],
      "execution_count": null,
      "outputs": []
    },
    {
      "cell_type": "code",
      "metadata": {
        "id": "z-4zhkY4uxJs"
      },
      "source": [
        "def two_z(xbar ,ybar ,σ1 ,σ2 , n1 ,n2):\n",
        "  z = (xbar-ybar) / math.sqrt(((σ1**2) / n1)+((σ2**2)/n2))\n",
        "  return z"
      ],
      "execution_count": null,
      "outputs": []
    },
    {
      "cell_type": "code",
      "metadata": {
        "colab": {
          "base_uri": "https://localhost:8080/"
        },
        "id": "_xBj8SLCdXg0",
        "outputId": "8108070e-0063-46d8-d555-154506a63dd9"
      },
      "source": [
        "cal_z = abs (two_z(55,57,10,15,400,100))\n",
        "cal_z"
      ],
      "execution_count": null,
      "outputs": [
        {
          "output_type": "execute_result",
          "data": {
            "text/plain": [
              "1.2649110640673518"
            ]
          },
          "metadata": {},
          "execution_count": 11
        }
      ]
    },
    {
      "cell_type": "markdown",
      "metadata": {
        "id": "9l-aGR2nd0Ue"
      },
      "source": [
        "# P-value"
      ]
    },
    {
      "cell_type": "code",
      "metadata": {
        "id": "HPfBs5oOdeD4"
      },
      "source": [
        "# p value ##\n",
        "import scipy.stats"
      ],
      "execution_count": null,
      "outputs": []
    },
    {
      "cell_type": "code",
      "metadata": {
        "colab": {
          "base_uri": "https://localhost:8080/"
        },
        "id": "jqhRKOOCdzOb",
        "outputId": "631d9958-8c57-40e7-a845-be6954adf9d9"
      },
      "source": [
        "p_value = scipy.stats.norm.sf(1.2649)\n",
        "p_value"
      ],
      "execution_count": null,
      "outputs": [
        {
          "output_type": "execute_result",
          "data": {
            "text/plain": [
              "0.10295358868392779"
            ]
          },
          "metadata": {},
          "execution_count": 17
        }
      ]
    },
    {
      "cell_type": "code",
      "metadata": {
        "colab": {
          "base_uri": "https://localhost:8080/"
        },
        "id": "gUYNU9HzePv0",
        "outputId": "10ada3d0-92df-4adf-f800-36fb06f6e2b0"
      },
      "source": [
        "## conclusion:\n",
        "alpha = 0.05 \n",
        "if alpha > p_value:\n",
        "  print(\"Reject the Null hypothesis at 5% LOS :\\n\",\"The difference between the mean weight of student in university A and B is not significant \")\n",
        "else:\n",
        "  print(\"Accept the Null hypothesis at 5% LOS :\\n\",\"The difference between the mean weight of student in university A and B is significant  \")"
      ],
      "execution_count": null,
      "outputs": [
        {
          "output_type": "stream",
          "name": "stdout",
          "text": [
            "Accept the Null hypothesis at 5% LOS :\n",
            " the mean height of the U.S. male population is 70 inchs \n"
          ]
        }
      ]
    },
    {
      "cell_type": "code",
      "metadata": {
        "id": "KJHNzptUegiP"
      },
      "source": [
        ""
      ],
      "execution_count": null,
      "outputs": []
    }
  ]
}